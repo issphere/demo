{
  "nbformat": 4,
  "nbformat_minor": 0,
  "metadata": {
    "colab": {
      "provenance": [],
      "authorship_tag": "ABX9TyP4buZRBaY4OLZgyWy39J8l",
      "include_colab_link": true
    },
    "kernelspec": {
      "name": "python3",
      "display_name": "Python 3"
    },
    "language_info": {
      "name": "python"
    }
  },
  "cells": [
    {
      "cell_type": "markdown",
      "metadata": {
        "id": "view-in-github",
        "colab_type": "text"
      },
      "source": [
        "<a href=\"https://colab.research.google.com/github/issphere/demo/blob/main/python_work3.ipynb\" target=\"_parent\"><img src=\"https://colab.research.google.com/assets/colab-badge.svg\" alt=\"Open In Colab\"/></a>"
      ]
    },
    {
      "cell_type": "code",
      "execution_count": null,
      "metadata": {
        "colab": {
          "base_uri": "https://localhost:8080/"
        },
        "id": "iIbk-gtEcfFW",
        "outputId": "b4527d2a-840c-4348-a6bb-68230eea51b1"
      },
      "outputs": [
        {
          "output_type": "stream",
          "name": "stdout",
          "text": [
            "Уникальные гео-метки пользователей {98, 35, 15, 213, 54, 119}\n"
          ]
        }
      ],
      "source": [
        "ids = {'user1': [213, 213, 213, 15, 213], \n",
        "       'user2': [54, 54, 119, 119, 119], \n",
        "       'user3': [213, 98, 98, 35]}\n",
        "\n",
        "group_label = []   # создается пустой список меток\n",
        "\n",
        "for label in ids.values():   # через цикл перебираются метки из значений справочника\n",
        "    group_label.extend(label)   # и добавляются в созданный список\n",
        "\n",
        "print(\"Уникальные гео-метки пользователей\", set(group_label))   # выводим список всех меток, преобразовав его во множество уникальных меток\n"
      ]
    },
    {
      "cell_type": "code",
      "source": [
        "ids = {'user1': [213, 213, 213, 15, 213], \n",
        "       'user2': [54, 54, 119, 119, 119], \n",
        "       'user3': [213, 98, 98, 35]}\n",
        "\n",
        "labels = []   # создается пустой список\n",
        "\n",
        "val = ids.values() # создается переменная, которой присваивается список значений всех ключей из словаря ids\n",
        "\n",
        "for label in val:   # через цикл перебираются метки из созданной переменной\n",
        "    labels.extend(label)   # и добавляются в созданный список\n",
        "\n",
        "print(\"Уникальные гео-метки пользователей\", set(labels))   # выводим список всех меток, преобразовав его во множество уникальных меток"
      ],
      "metadata": {
        "colab": {
          "base_uri": "https://localhost:8080/"
        },
        "id": "cdFcbFO2GA7P",
        "outputId": "04fb2be3-84a3-4cdd-d2b5-e3003df94997"
      },
      "execution_count": null,
      "outputs": [
        {
          "output_type": "stream",
          "name": "stdout",
          "text": [
            "Уникальные гео-метки пользователей {98, 35, 15, 213, 54, 119}\n"
          ]
        }
      ]
    },
    {
      "cell_type": "code",
      "source": [
        "queries = [\n",
        "    'смотреть сериалы онлайн',\n",
        "    'новости спорта',\n",
        "    'афиша кино',\n",
        "    'курс доллара',\n",
        "    'сериалы этим летом',\n",
        "    'курс по питону',\n",
        "    'сериалы про спорт',\n",
        "]\n",
        "\n",
        "directory = {}                                # создаем пустой справочник\n",
        "\n",
        "for el in queries: \n",
        "    words = el.split()                        # через цикл каждый элемент-запрос из списка запросов делим на список из слов\n",
        "    if len(words) in directory.keys():        # через условие если ключ, равный количеству слов в строке из значения возвращенного циклом, \n",
        "        directory[len(words)] += 1            # есть в справочнике, то значение ключа увеличивается на 1.\n",
        "    else:                                     #  иначе\n",
        "        directory.update({                    # значению добавляется ключ, равный количеству слов в строке, возвращенной циклом, \n",
        "            len(words): 1})                     # со значением равны 1.\n",
        "        \n",
        "for key, value in storage.items():             # далее для каждой пары ключ-значение расчитывается % значений от количества элементов-запросов в \n",
        "    percentage = round((value / len(queries)) * 100, 2)    # списке запросов\n",
        "    print(f'Поисковых запросов из {key} слова: {percentage}% ')   # выводится результат вычисления через ф-строку"
      ],
      "metadata": {
        "colab": {
          "base_uri": "https://localhost:8080/"
        },
        "id": "SszaPcodrTpJ",
        "outputId": "8fcd1928-f61b-4df1-d6f0-409770f8a145"
      },
      "execution_count": null,
      "outputs": [
        {
          "output_type": "stream",
          "name": "stdout",
          "text": [
            "Поисковых запросов из 3 слова: 57.14% \n",
            "Поисковых запросов из 2 слова: 42.86% \n"
          ]
        }
      ]
    },
    {
      "cell_type": "code",
      "source": [
        "results = {\n",
        "'vk': {'revenue': 103, 'cost': 98},\n",
        "'yandex': {'revenue': 179, 'cost': 153},\n",
        "'facebook': {'revenue': 103, 'cost': 110},\n",
        "'adwords': {'revenue': 35, 'cost': 34},\n",
        "'twitter': {'revenue': 11, 'cost': 24},\n",
        "}\n",
        "\n",
        "procent = round(((value['revenue'] / value['cost']) - 1)*100 , 2)  # рассчитываем РОИ\n",
        "kv = results.items()         # создается переменная, в которую выводится список из пар \"ключ: значение в виде словаря\"\n",
        "\n",
        "for key, value in kv:      # через цикл для каждой пары \"ключ: значения в виде словаря\" из переменной kv\n",
        "    value['ROI'] = procent  # добавляется третье значение-словарь\n",
        "    print(key, value)   # выводим обновленный спиок словарей"
      ],
      "metadata": {
        "colab": {
          "base_uri": "https://localhost:8080/"
        },
        "id": "TApmGpeaFU_M",
        "outputId": "43d32c91-8f69-4ebf-caed-939230072eed"
      },
      "execution_count": null,
      "outputs": [
        {
          "output_type": "stream",
          "name": "stdout",
          "text": [
            "vk {'revenue': 103, 'cost': 98, 'ROI': -54.17}\n",
            "yandex {'revenue': 179, 'cost': 153, 'ROI': -54.17}\n",
            "facebook {'revenue': 103, 'cost': 110, 'ROI': -54.17}\n",
            "adwords {'revenue': 35, 'cost': 34, 'ROI': -54.17}\n",
            "twitter {'revenue': 11, 'cost': 24, 'ROI': -54.17}\n"
          ]
        }
      ]
    },
    {
      "cell_type": "code",
      "source": [
        "stats = {'facebook': 55, \n",
        "         'yandex': 115, \n",
        "         'vk': 120, \n",
        "         'google': 99, \n",
        "         'email': 42, \n",
        "         'ok': 98}\n",
        "\n",
        "print(max(stats, key=stats.get))"
      ],
      "metadata": {
        "colab": {
          "base_uri": "https://localhost:8080/"
        },
        "id": "bmkVqABXLsrM",
        "outputId": "9b465dbe-7aef-428e-a321-2b9c4953d7c9"
      },
      "execution_count": null,
      "outputs": [
        {
          "output_type": "stream",
          "name": "stdout",
          "text": [
            "vk\n"
          ]
        }
      ]
    },
    {
      "cell_type": "code",
      "source": [
        "   stats = {'facebook': 55, \n",
        "         'yandex': 115, \n",
        "         'vk': 120, \n",
        "         'google': 99, \n",
        "         'email': 42, \n",
        "         'ok': 98}\n",
        "\n",
        "   m=max(stats.values())\n",
        "   print([k for k,v in stats.items() if v==m])"
      ],
      "metadata": {
        "colab": {
          "base_uri": "https://localhost:8080/"
        },
        "id": "t-26A1LNSVFv",
        "outputId": "e770a994-e22b-40cd-a5c0-96cd47f189f2"
      },
      "execution_count": null,
      "outputs": [
        {
          "output_type": "stream",
          "name": "stdout",
          "text": [
            "['vk']\n"
          ]
        }
      ]
    }
  ]
}